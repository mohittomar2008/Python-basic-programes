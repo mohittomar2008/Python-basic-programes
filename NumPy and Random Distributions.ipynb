{
 "cells": [
  {
   "cell_type": "markdown",
   "id": "1a749882",
   "metadata": {},
   "source": [
    "\n",
    "# Numpy Tutorial"
   ]
  },
  {
   "cell_type": "code",
   "execution_count": 21,
   "id": "321d32af",
   "metadata": {},
   "outputs": [],
   "source": [
    "# Numpy is a Python Library\n",
    "# Used to work with Array\n",
    "# Numpy means Numerical Python"
   ]
  },
  {
   "cell_type": "code",
   "execution_count": 22,
   "id": "3ec73eec",
   "metadata": {},
   "outputs": [
    {
     "name": "stdout",
     "output_type": "stream",
     "text": [
      "Requirement already satisfied: numpy in c:\\users\\bank of america\\anaconda3\\lib\\site-packages (1.20.1)\n"
     ]
    }
   ],
   "source": [
    "!pip install numpy"
   ]
  },
  {
   "cell_type": "code",
   "execution_count": 23,
   "id": "b070bd12",
   "metadata": {},
   "outputs": [],
   "source": [
    "import numpy as np"
   ]
  },
  {
   "cell_type": "code",
   "execution_count": 24,
   "id": "bedd6f95",
   "metadata": {},
   "outputs": [
    {
     "data": {
      "text/plain": [
       "array([1, 2, 3, 4, 5])"
      ]
     },
     "execution_count": 24,
     "metadata": {},
     "output_type": "execute_result"
    }
   ],
   "source": [
    "# 1-D List\n",
    "arr= np.array([1,2,3,4,5])\n",
    "arr"
   ]
  },
  {
   "cell_type": "code",
   "execution_count": 25,
   "id": "aeab6202",
   "metadata": {},
   "outputs": [
    {
     "name": "stdout",
     "output_type": "stream",
     "text": [
      "[1 2 3 4 5]\n"
     ]
    }
   ],
   "source": [
    "print(arr)"
   ]
  },
  {
   "cell_type": "code",
   "execution_count": 26,
   "id": "89f43685",
   "metadata": {},
   "outputs": [
    {
     "name": "stdout",
     "output_type": "stream",
     "text": [
      "[[ 1  2  3  4]\n",
      " [ 5  6  7  8]\n",
      " [ 9 10 11 12]]\n"
     ]
    }
   ],
   "source": [
    "# 3-D list\n",
    "list1=[1,2,3,4]\n",
    "list2=[5,6,7,8]\n",
    "list3=[9,10,11,12]\n",
    "\n",
    "arr= np.array([list1,list2,list3])\n",
    "print(arr)"
   ]
  },
  {
   "cell_type": "code",
   "execution_count": 37,
   "id": "8e0d5128",
   "metadata": {},
   "outputs": [
    {
     "data": {
      "text/plain": [
       "array([1, 2, 3, 4, 5, 6, 7, 8])"
      ]
     },
     "execution_count": 37,
     "metadata": {},
     "output_type": "execute_result"
    }
   ],
   "source": [
    "# Lets do some operations on Array\n",
    "arr1= np.array(list1)\n",
    "arr2= np.array(list2)\n",
    "arr3= np.array(list3)\n",
    "\n",
    "jama= np.concatenate((arr1,arr2))\n",
    "jama"
   ]
  },
  {
   "cell_type": "code",
   "execution_count": 49,
   "id": "39b564b4",
   "metadata": {},
   "outputs": [
    {
     "name": "stdout",
     "output_type": "stream",
     "text": [
      "[[ 1  2  3  7  8  9]\n",
      " [ 4  5  6 10 11 12]]\n"
     ]
    }
   ],
   "source": [
    "# 2D array operations\n",
    "\n",
    "arr1= np.array([[1,2,3],[4,5,6]])\n",
    "arr2= np.array([[7,8,9],[10,11,12]])\n",
    "\n",
    "#axis=1 add the data on the right side while axis=0 will add data below\n",
    "jama= np.concatenate((arr1,arr2 ), axis=1)\n",
    "print(jama)"
   ]
  },
  {
   "cell_type": "code",
   "execution_count": 57,
   "id": "a03d3f5a",
   "metadata": {},
   "outputs": [
    {
     "name": "stdout",
     "output_type": "stream",
     "text": [
      "(array([3, 5], dtype=int64),)\n",
      "(array([1, 3, 5], dtype=int64),)\n"
     ]
    }
   ],
   "source": [
    "# Array Search\n",
    "arr1=np.array([1,2,3,4,5,4])\n",
    "x=np.where(arr1==4)\n",
    "print(x)\n",
    "\n",
    "x=np.where(arr1%2==0)\n",
    "print(x)"
   ]
  },
  {
   "cell_type": "code",
   "execution_count": 58,
   "id": "b1ef40da",
   "metadata": {},
   "outputs": [
    {
     "data": {
      "text/plain": [
       "array([1, 2, 3, 4, 5, 4])"
      ]
     },
     "execution_count": 58,
     "metadata": {},
     "output_type": "execute_result"
    }
   ],
   "source": [
    "arr1"
   ]
  },
  {
   "cell_type": "code",
   "execution_count": 59,
   "id": "3d1ad4f0",
   "metadata": {},
   "outputs": [
    {
     "data": {
      "text/plain": [
       "array([1, 2, 3, 4, 4, 5])"
      ]
     },
     "execution_count": 59,
     "metadata": {},
     "output_type": "execute_result"
    }
   ],
   "source": [
    "# sorting of array\n",
    "np.sort(arr1)"
   ]
  },
  {
   "cell_type": "markdown",
   "id": "023e8cda",
   "metadata": {},
   "source": [
    "# Numpy Random"
   ]
  },
  {
   "cell_type": "code",
   "execution_count": 90,
   "id": "8f51004e",
   "metadata": {},
   "outputs": [
    {
     "data": {
      "text/plain": [
       "14"
      ]
     },
     "execution_count": 90,
     "metadata": {},
     "output_type": "execute_result"
    }
   ],
   "source": [
    "# create random number\n",
    "x=np.random.randint(10,20)\n",
    "x"
   ]
  },
  {
   "cell_type": "code",
   "execution_count": 94,
   "id": "13c8a87e",
   "metadata": {},
   "outputs": [
    {
     "data": {
      "text/plain": [
       "0.3643480966051069"
      ]
     },
     "execution_count": 94,
     "metadata": {},
     "output_type": "execute_result"
    }
   ],
   "source": [
    "x=np.random.rand()\n",
    "x"
   ]
  },
  {
   "cell_type": "code",
   "execution_count": 105,
   "id": "83d9f9bf",
   "metadata": {},
   "outputs": [
    {
     "data": {
      "text/plain": [
       "array([[ 3, 10, 11,  7,  3],\n",
       "       [ 4,  7,  1,  5,  9],\n",
       "       [ 3,  4,  8, 10,  7],\n",
       "       [ 2,  0,  3,  8, 11],\n",
       "       [ 5,  7,  4,  3, 10]])"
      ]
     },
     "execution_count": 105,
     "metadata": {},
     "output_type": "execute_result"
    }
   ],
   "source": [
    "# Generate random array\n",
    "x=np.random.randint(0,12,size=(5,5))\n",
    "x"
   ]
  },
  {
   "cell_type": "code",
   "execution_count": 107,
   "id": "93bba8bc",
   "metadata": {},
   "outputs": [
    {
     "data": {
      "text/plain": [
       "array([[0.01083131, 0.54232212, 0.27845294, 0.49429817, 0.7520398 ],\n",
       "       [0.60957974, 0.75459502, 0.2019565 , 0.81973692, 0.10414027],\n",
       "       [0.3626293 , 0.731512  , 0.17276753, 0.2192582 , 0.21227689],\n",
       "       [0.59819252, 0.23359376, 0.53647865, 0.54469743, 0.91310315],\n",
       "       [0.50927631, 0.91380764, 0.47087101, 0.83352593, 0.22675037]])"
      ]
     },
     "execution_count": 107,
     "metadata": {},
     "output_type": "execute_result"
    }
   ],
   "source": [
    "x=np.random.rand(5,5)\n",
    "x"
   ]
  },
  {
   "cell_type": "code",
   "execution_count": 115,
   "id": "c6901a5a",
   "metadata": {},
   "outputs": [
    {
     "data": {
      "text/plain": [
       "array([[5, 1],\n",
       "       [5, 5]])"
      ]
     },
     "execution_count": 115,
     "metadata": {},
     "output_type": "execute_result"
    }
   ],
   "source": [
    "# select from options\n",
    "x=np.random.choice([1,3,5,7,9], size=(2,2))\n",
    "x"
   ]
  },
  {
   "cell_type": "markdown",
   "id": "ba051aba",
   "metadata": {},
   "source": [
    "# Random data Distribution"
   ]
  },
  {
   "cell_type": "code",
   "execution_count": 116,
   "id": "993affaa",
   "metadata": {},
   "outputs": [],
   "source": [
    "# a random distribution is a set of random numbers that follow a certain probability density function"
   ]
  },
  {
   "cell_type": "code",
   "execution_count": 121,
   "id": "b70affa3",
   "metadata": {},
   "outputs": [
    {
     "data": {
      "text/plain": [
       "array([7, 5, 5, 7, 5, 5, 1, 7, 3, 7])"
      ]
     },
     "execution_count": 121,
     "metadata": {},
     "output_type": "execute_result"
    }
   ],
   "source": [
    "x=np.random.choice([1,3,5,7,9], p=[.1,.2,.3,.4,0], size=10)\n",
    "x"
   ]
  },
  {
   "cell_type": "code",
   "execution_count": 124,
   "id": "dd8f655a",
   "metadata": {},
   "outputs": [],
   "source": [
    "# Random Permutations refer to an arrangement of elements\n",
    "\n",
    "#Numpy Random module provide 2 methods\n",
    "#1. shuffle()\n",
    "#2. permutation()"
   ]
  },
  {
   "cell_type": "code",
   "execution_count": 134,
   "id": "f2c7be76",
   "metadata": {},
   "outputs": [
    {
     "name": "stdout",
     "output_type": "stream",
     "text": [
      "[3 1 5 4 2]\n"
     ]
    }
   ],
   "source": [
    "arr= np.array([1,2,3,4,5])\n",
    "np.random.shuffle(arr)\n",
    "print(arr)"
   ]
  },
  {
   "cell_type": "code",
   "execution_count": 137,
   "id": "a441a450",
   "metadata": {},
   "outputs": [
    {
     "name": "stdout",
     "output_type": "stream",
     "text": [
      "[2 3 4 5 1]\n"
     ]
    }
   ],
   "source": [
    "print(np.random.permutation(arr))"
   ]
  },
  {
   "cell_type": "markdown",
   "id": "0513903c",
   "metadata": {},
   "source": [
    "# Normal (Gaussian) Distribution"
   ]
  },
  {
   "cell_type": "code",
   "execution_count": 138,
   "id": "cdd9eac5",
   "metadata": {},
   "outputs": [],
   "source": [
    "# Normal distribution of random variables\n",
    "# Examples:  IQ score, heart beats\n",
    "# for normal dist  mean=0, sd=1\n",
    "# loc= mean,  scale= sd"
   ]
  },
  {
   "cell_type": "code",
   "execution_count": 166,
   "id": "ba039436",
   "metadata": {},
   "outputs": [],
   "source": [
    "x= np.random.normal(loc=0 ,scale=2 ,size=(100000))\n"
   ]
  },
  {
   "cell_type": "code",
   "execution_count": 167,
   "id": "682e67c3",
   "metadata": {},
   "outputs": [],
   "source": [
    "# Visualization of Normal distribution\n",
    "\n",
    "import matplotlib.pylab as plt\n",
    "import seaborn as sns"
   ]
  },
  {
   "cell_type": "code",
   "execution_count": 176,
   "id": "82b6b456",
   "metadata": {},
   "outputs": [
    {
     "name": "stderr",
     "output_type": "stream",
     "text": [
      "C:\\Users\\Bank of America\\anaconda3\\lib\\site-packages\\seaborn\\distributions.py:2557: FutureWarning: `distplot` is a deprecated function and will be removed in a future version. Please adapt your code to use either `displot` (a figure-level function with similar flexibility) or `kdeplot` (an axes-level function for kernel density plots).\n",
      "  warnings.warn(msg, FutureWarning)\n"
     ]
    },
    {
     "data": {
      "text/plain": [
       "<AxesSubplot:ylabel='Density'>"
      ]
     },
     "execution_count": 176,
     "metadata": {},
     "output_type": "execute_result"
    },
    {
     "data": {
      "image/png": "[encoded data removed]",
      "text/plain": [
       "<Figure size 432x288 with 1 Axes>"
      ]
     },
     "metadata": {
      "needs_background": "light"
     },
     "output_type": "display_data"
    }
   ],
   "source": [
    "sns.distplot(x, hist=False)\n"
   ]
  },
  {
   "cell_type": "markdown",
   "id": "08d983ca",
   "metadata": {},
   "source": [
    "\n",
    "# Binomial Distribution"
   ]
  },
  {
   "cell_type": "code",
   "execution_count": 169,
   "id": "52be1aca",
   "metadata": {},
   "outputs": [],
   "source": [
    "# It is a Discrete distribution outcome of binary scenarios\n",
    "#binomial(n, p, size=None):  n= no of trail, p= probability of success of each trial, shape of returned array"
   ]
  },
  {
   "cell_type": "code",
   "execution_count": 178,
   "id": "9e12da0f",
   "metadata": {},
   "outputs": [
    {
     "data": {
      "text/plain": [
       "array([0, 1, 1, 0, 1, 0, 0, 0, 2, 0])"
      ]
     },
     "execution_count": 178,
     "metadata": {},
     "output_type": "execute_result"
    }
   ],
   "source": [
    "x=np.random.binomial(n=5,p=.1,size=10)\n",
    "x"
   ]
  },
  {
   "cell_type": "code",
   "execution_count": 185,
   "id": "253a3eaa",
   "metadata": {},
   "outputs": [
    {
     "name": "stderr",
     "output_type": "stream",
     "text": [
      "C:\\Users\\Bank of America\\anaconda3\\lib\\site-packages\\seaborn\\distributions.py:2557: FutureWarning: `distplot` is a deprecated function and will be removed in a future version. Please adapt your code to use either `displot` (a figure-level function with similar flexibility) or `histplot` (an axes-level function for histograms).\n",
      "  warnings.warn(msg, FutureWarning)\n"
     ]
    },
    {
     "data": {
      "text/plain": [
       "<AxesSubplot:ylabel='Density'>"
      ]
     },
     "execution_count": 185,
     "metadata": {},
     "output_type": "execute_result"
    },
    {
     "data": {
      "image/png": "[encoded data removed]",
      "text/plain": [
       "<Figure size 432x288 with 1 Axes>"
      ]
     },
     "metadata": {
      "needs_background": "light"
     },
     "output_type": "display_data"
    }
   ],
   "source": [
    "# Visualization of Binomial distribution\n",
    "\n",
    "sns.distplot(np.random.binomial(n=10,p=.5,size=100))"
   ]
  },
  {
   "cell_type": "code",
   "execution_count": 190,
   "id": "726980bb",
   "metadata": {},
   "outputs": [
    {
     "name": "stderr",
     "output_type": "stream",
     "text": [
      "C:\\Users\\Bank of America\\anaconda3\\lib\\site-packages\\seaborn\\distributions.py:2557: FutureWarning: `distplot` is a deprecated function and will be removed in a future version. Please adapt your code to use either `displot` (a figure-level function with similar flexibility) or `histplot` (an axes-level function for histograms).\n",
      "  warnings.warn(msg, FutureWarning)\n",
      "C:\\Users\\Bank of America\\anaconda3\\lib\\site-packages\\seaborn\\distributions.py:2557: FutureWarning: `distplot` is a deprecated function and will be removed in a future version. Please adapt your code to use either `displot` (a figure-level function with similar flexibility) or `histplot` (an axes-level function for histograms).\n",
      "  warnings.warn(msg, FutureWarning)\n"
     ]
    },
    {
     "data": {
      "text/plain": [
       "<AxesSubplot:ylabel='Density'>"
      ]
     },
     "execution_count": 190,
     "metadata": {},
     "output_type": "execute_result"
    },
    {
     "data": {
      "image/png": "[encoded data removed]",
      "text/plain": [
       "<Figure size 432x288 with 1 Axes>"
      ]
     },
     "metadata": {
      "needs_background": "light"
     },
     "output_type": "display_data"
    }
   ],
   "source": [
    "# Difference between Normal and Binomial distribution,  Normal has peak\n",
    "sns.distplot(np.random.normal(loc=50 ,scale=5 ,size=1000))\n",
    "\n",
    "sns.distplot(np.random.binomial(n=100 ,p=.5 ,size=1000))"
   ]
  },
  {
   "cell_type": "markdown",
   "id": "85ee3e69",
   "metadata": {},
   "source": [
    "# Poisson Distribution"
   ]
  },
  {
   "cell_type": "markdown",
   "id": "1966afde",
   "metadata": {},
   "source": [
    "It is a Discrete Distribution\n",
    "It estimates how many times an event occur within specified time. like how many car passes within a minute.\n",
    "\n",
    "It require 2 parameters:\n",
    "    1. lam  -  rate or known no. of occurences\n",
    "    2. size:  shape of returned array"
   ]
  },
  {
   "cell_type": "code",
   "execution_count": 202,
   "id": "d7448fef",
   "metadata": {},
   "outputs": [
    {
     "data": {
      "text/plain": [
       "array([2, 1, 2, 1, 4, 2, 6, 1, 4, 3])"
      ]
     },
     "execution_count": 202,
     "metadata": {},
     "output_type": "execute_result"
    }
   ],
   "source": [
    "# Generate a random 1x10 distribution for occurance of 2\n",
    "\n",
    "x= np.random.poisson(lam=2, size=10)\n",
    "x"
   ]
  },
  {
   "cell_type": "code",
   "execution_count": 205,
   "id": "5e7b950c",
   "metadata": {},
   "outputs": [
    {
     "name": "stderr",
     "output_type": "stream",
     "text": [
      "C:\\Users\\Bank of America\\anaconda3\\lib\\site-packages\\seaborn\\distributions.py:2557: FutureWarning: `distplot` is a deprecated function and will be removed in a future version. Please adapt your code to use either `displot` (a figure-level function with similar flexibility) or `histplot` (an axes-level function for histograms).\n",
      "  warnings.warn(msg, FutureWarning)\n",
      "C:\\Users\\Bank of America\\anaconda3\\lib\\site-packages\\seaborn\\distributions.py:2557: FutureWarning: `distplot` is a deprecated function and will be removed in a future version. Please adapt your code to use either `displot` (a figure-level function with similar flexibility) or `histplot` (an axes-level function for histograms).\n",
      "  warnings.warn(msg, FutureWarning)\n"
     ]
    },
    {
     "data": {
      "text/plain": [
       "<AxesSubplot:ylabel='Density'>"
      ]
     },
     "execution_count": 205,
     "metadata": {},
     "output_type": "execute_result"
    },
    {
     "data": {
      "image/png": "[encoded data removed]",
      "text/plain": [
       "<Figure size 432x288 with 1 Axes>"
      ]
     },
     "metadata": {
      "needs_background": "light"
     },
     "output_type": "display_data"
    }
   ],
   "source": [
    "# Normal VS  Poission/  Normal has good peak\n",
    "\n",
    "sns.distplot(np.random.normal(loc=50, scale=7,size=1000))\n",
    "sns.distplot(np.random.poisson(lam=50, size=1000))"
   ]
  },
  {
   "cell_type": "code",
   "execution_count": 211,
   "id": "8d100848",
   "metadata": {},
   "outputs": [
    {
     "name": "stderr",
     "output_type": "stream",
     "text": [
      "C:\\Users\\Bank of America\\anaconda3\\lib\\site-packages\\seaborn\\distributions.py:2557: FutureWarning: `distplot` is a deprecated function and will be removed in a future version. Please adapt your code to use either `displot` (a figure-level function with similar flexibility) or `histplot` (an axes-level function for histograms).\n",
      "  warnings.warn(msg, FutureWarning)\n",
      "C:\\Users\\Bank of America\\anaconda3\\lib\\site-packages\\seaborn\\distributions.py:2557: FutureWarning: `distplot` is a deprecated function and will be removed in a future version. Please adapt your code to use either `displot` (a figure-level function with similar flexibility) or `histplot` (an axes-level function for histograms).\n",
      "  warnings.warn(msg, FutureWarning)\n"
     ]
    },
    {
     "data": {
      "text/plain": [
       "<AxesSubplot:ylabel='Density'>"
      ]
     },
     "execution_count": 211,
     "metadata": {},
     "output_type": "execute_result"
    },
    {
     "data": {
      "image/png": "[encoded data removed]",
      "text/plain": [
       "<Figure size 432x288 with 1 Axes>"
      ]
     },
     "metadata": {
      "needs_background": "light"
     },
     "output_type": "display_data"
    }
   ],
   "source": [
    "#Poission  vs Bionomial  |  Poission has good peak\n",
    "\n",
    "sns.distplot(np.random.binomial(n=1000,p=.01, size=1000))\n",
    "sns.distplot(np.random.poisson(lam=10, size=1000))"
   ]
  },
  {
   "cell_type": "markdown",
   "id": "dffe2db5",
   "metadata": {},
   "source": [
    "# Uniform Distribution"
   ]
  },
  {
   "cell_type": "code",
   "execution_count": 212,
   "id": "f9d1ec6e",
   "metadata": {},
   "outputs": [],
   "source": [
    "# Used to describe probability where every event has equal chance of happening\n",
    "# lower limit= 0 dafault\n",
    "# higher limit=1 default\n",
    "#size= shape of returned array"
   ]
  },
  {
   "cell_type": "code",
   "execution_count": 218,
   "id": "98077512",
   "metadata": {},
   "outputs": [
    {
     "data": {
      "text/plain": [
       "array([1.62381169, 1.41233042, 1.48493753, 1.78054605, 1.36799653,\n",
       "       1.53818682, 1.93257169, 1.22375812, 1.68528124, 1.7804363 ,\n",
       "       1.29879764, 1.64458081, 1.24352161, 1.45506925, 1.41164218,\n",
       "       1.2594617 , 1.47926661, 1.64754777, 1.02422354, 1.77459676,\n",
       "       1.31087229, 1.61285811, 1.96913001, 1.81960276, 1.53490908,\n",
       "       1.23884935, 1.93890536, 1.57009459, 1.22396249, 1.89780659,\n",
       "       1.33324913, 1.49643683, 1.48624707, 1.81791598, 1.46628948,\n",
       "       1.15999445, 1.90007497, 1.64993387, 1.66423475, 1.63092897,\n",
       "       1.77462826, 1.35201926, 1.56978839, 1.04785993, 1.69576921,\n",
       "       1.17090186, 1.59401694, 1.76770039, 1.5386139 , 1.60547271,\n",
       "       1.77483404, 1.0911537 , 1.30835786, 1.60006788, 1.88129845,\n",
       "       1.31080544, 1.26673242, 1.35916764, 1.82768601, 1.39689689,\n",
       "       1.27722014, 1.88359372, 1.18192829, 1.6191165 , 1.27202028,\n",
       "       1.81423529, 1.97518755, 1.86686881, 1.31074723, 1.64399887,\n",
       "       1.14376321, 1.97563614, 1.50951291, 1.90146155, 1.78156341,\n",
       "       1.54873249, 1.73201883, 1.05734814, 1.67814476, 1.319456  ,\n",
       "       1.00924237, 1.04757838, 1.05167546, 1.07259883, 1.10582042,\n",
       "       1.9557065 , 1.79513479, 1.75554062, 1.19960459, 1.22775114,\n",
       "       1.86008266, 1.23213015, 1.56198983, 1.38820605, 1.4044679 ,\n",
       "       1.13908223, 1.58189755, 1.00263581, 1.03613522, 1.5809791 ])"
      ]
     },
     "execution_count": 218,
     "metadata": {},
     "output_type": "execute_result"
    }
   ],
   "source": [
    "\n",
    "x=np.random.uniform(1,2,size=100)\n",
    "x"
   ]
  },
  {
   "cell_type": "code",
   "execution_count": 221,
   "id": "117671ff",
   "metadata": {},
   "outputs": [
    {
     "name": "stderr",
     "output_type": "stream",
     "text": [
      "C:\\Users\\Bank of America\\anaconda3\\lib\\site-packages\\seaborn\\distributions.py:2557: FutureWarning: `distplot` is a deprecated function and will be removed in a future version. Please adapt your code to use either `displot` (a figure-level function with similar flexibility) or `kdeplot` (an axes-level function for kernel density plots).\n",
      "  warnings.warn(msg, FutureWarning)\n"
     ]
    },
    {
     "data": {
      "text/plain": [
       "<AxesSubplot:ylabel='Density'>"
      ]
     },
     "execution_count": 221,
     "metadata": {},
     "output_type": "execute_result"
    },
    {
     "data": {
      "image/png": "[encoded data removed]",
      "text/plain": [
       "<Figure size 432x288 with 1 Axes>"
      ]
     },
     "metadata": {
      "needs_background": "light"
     },
     "output_type": "display_data"
    }
   ],
   "source": [
    "# visualization\n",
    "\n",
    "sns.distplot(np.random.uniform(size=1000), hist=False)"
   ]
  },
  {
   "cell_type": "markdown",
   "id": "c463f82c",
   "metadata": {},
   "source": [
    "# Logistic Distribution"
   ]
  },
  {
   "cell_type": "code",
   "execution_count": 222,
   "id": "f9a48e0f",
   "metadata": {},
   "outputs": [],
   "source": [
    "# it is used to describe growth, Used extensively in Machne learning in logistic regression, neural network etc"
   ]
  },
  {
   "cell_type": "code",
   "execution_count": 223,
   "id": "a958fd54",
   "metadata": {},
   "outputs": [],
   "source": [
    "# 3 Parameters: 1. loc =0 default , 2. scale= 1 default , 3. size"
   ]
  },
  {
   "cell_type": "code",
   "execution_count": 227,
   "id": "b3155df7",
   "metadata": {},
   "outputs": [
    {
     "data": {
      "text/plain": [
       "array([ 1.14607344,  5.58208608,  4.64917029,  0.80169097, -0.59564471,\n",
       "        0.36627918])"
      ]
     },
     "execution_count": 227,
     "metadata": {},
     "output_type": "execute_result"
    }
   ],
   "source": [
    "x= np.random.logistic(loc=1, scale=2, size= (6))\n",
    "x"
   ]
  },
  {
   "cell_type": "code",
   "execution_count": 240,
   "id": "f7ba01b6",
   "metadata": {},
   "outputs": [
    {
     "name": "stderr",
     "output_type": "stream",
     "text": [
      "C:\\Users\\Bank of America\\anaconda3\\lib\\site-packages\\seaborn\\distributions.py:2557: FutureWarning: `distplot` is a deprecated function and will be removed in a future version. Please adapt your code to use either `displot` (a figure-level function with similar flexibility) or `kdeplot` (an axes-level function for kernel density plots).\n",
      "  warnings.warn(msg, FutureWarning)\n"
     ]
    },
    {
     "data": {
      "image/png": "[encoded data removed]",
      "text/plain": [
       "<Figure size 432x288 with 1 Axes>"
      ]
     },
     "metadata": {
      "needs_background": "light"
     },
     "output_type": "display_data"
    }
   ],
   "source": [
    "# Visual |  Logistic has good peak wrt normal\n",
    "\n",
    "sns.distplot(np.random.logistic(size=1000), hist=False)\n",
    "plt.show()"
   ]
  },
  {
   "cell_type": "code",
   "execution_count": 241,
   "id": "0ae76a21",
   "metadata": {},
   "outputs": [
    {
     "name": "stderr",
     "output_type": "stream",
     "text": [
      "C:\\Users\\Bank of America\\anaconda3\\lib\\site-packages\\seaborn\\distributions.py:2557: FutureWarning: `distplot` is a deprecated function and will be removed in a future version. Please adapt your code to use either `displot` (a figure-level function with similar flexibility) or `kdeplot` (an axes-level function for kernel density plots).\n",
      "  warnings.warn(msg, FutureWarning)\n",
      "C:\\Users\\Bank of America\\anaconda3\\lib\\site-packages\\seaborn\\distributions.py:2557: FutureWarning: `distplot` is a deprecated function and will be removed in a future version. Please adapt your code to use either `displot` (a figure-level function with similar flexibility) or `kdeplot` (an axes-level function for kernel density plots).\n",
      "  warnings.warn(msg, FutureWarning)\n"
     ]
    },
    {
     "data": {
      "text/plain": [
       "<AxesSubplot:ylabel='Density'>"
      ]
     },
     "execution_count": 241,
     "metadata": {},
     "output_type": "execute_result"
    },
    {
     "data": {
      "image/png": "[encoded data removed]",
      "text/plain": [
       "<Figure size 432x288 with 1 Axes>"
      ]
     },
     "metadata": {
      "needs_background": "light"
     },
     "output_type": "display_data"
    }
   ],
   "source": [
    "\n",
    "\n",
    "sns.distplot(np.random.normal(scale=2,size=1000), hist=False)\n",
    "sns.distplot(np.random.logistic(size=1000), hist=False)"
   ]
  },
  {
   "cell_type": "markdown",
   "id": "98385100",
   "metadata": {},
   "source": [
    "# Multinomial Distribution"
   ]
  },
  {
   "cell_type": "markdown",
   "id": "4f6373fe",
   "metadata": {},
   "source": [
    "# Generalization of binomial distribution\n",
    "# binomial has 2 outcomes but this can have more\n",
    "\n",
    "Parameters:\n",
    "    1. n= no. of possible outcomes\n",
    "    2. pvals= list of probabilities of outcomes\n",
    "    3. size"
   ]
  },
  {
   "cell_type": "code",
   "execution_count": 244,
   "id": "7e8b589f",
   "metadata": {},
   "outputs": [],
   "source": [
    "x= np.random.multinomial(n=6, pvals=[1/6,1/6,1/6,1/6,1/6,1/6], size=100)\n"
   ]
  },
  {
   "cell_type": "code",
   "execution_count": 250,
   "id": "b5a96213",
   "metadata": {},
   "outputs": [
    {
     "name": "stderr",
     "output_type": "stream",
     "text": [
      "C:\\Users\\Bank of America\\anaconda3\\lib\\site-packages\\seaborn\\distributions.py:2557: FutureWarning: `distplot` is a deprecated function and will be removed in a future version. Please adapt your code to use either `displot` (a figure-level function with similar flexibility) or `histplot` (an axes-level function for histograms).\n",
      "  warnings.warn(msg, FutureWarning)\n"
     ]
    },
    {
     "data": {
      "text/plain": [
       "<AxesSubplot:ylabel='Density'>"
      ]
     },
     "execution_count": 250,
     "metadata": {},
     "output_type": "execute_result"
    },
    {
     "data": {
      "image/png": "[encoded data removed]",
      "text/plain": [
       "<Figure size 432x288 with 1 Axes>"
      ]
     },
     "metadata": {
      "needs_background": "light"
     },
     "output_type": "display_data"
    }
   ],
   "source": [
    "sns.distplot(np.random.multinomial(n=5,pvals=[1/6,1/6,1/6,1/6,1/6,1/6],size=1000))"
   ]
  },
  {
   "cell_type": "markdown",
   "id": "6d42e6f7",
   "metadata": {},
   "source": [
    "# Exponential Distribution"
   ]
  },
  {
   "cell_type": "markdown",
   "id": "f7dd66c9",
   "metadata": {},
   "source": [
    "Exponential distribution is used for describing the time till the next event happen. eg. the amount of time till next earth quack"
   ]
  },
  {
   "cell_type": "code",
   "execution_count": 251,
   "id": "ca549ad3",
   "metadata": {},
   "outputs": [],
   "source": [
    "# 2 Parameters: 1. scale  - inverse of lam(poission dist),  2. size: size of returned array"
   ]
  },
  {
   "cell_type": "code",
   "execution_count": 257,
   "id": "e8e9dcf7",
   "metadata": {},
   "outputs": [
    {
     "name": "stdout",
     "output_type": "stream",
     "text": [
      "[0.15485215 1.06933165 2.03327205 0.84977739 0.78546677 1.96601042]\n"
     ]
    }
   ],
   "source": [
    "x= np.random.exponential(scale=2, size=(3*2))\n",
    "print(x)"
   ]
  },
  {
   "cell_type": "code",
   "execution_count": 258,
   "id": "bd454170",
   "metadata": {},
   "outputs": [
    {
     "name": "stderr",
     "output_type": "stream",
     "text": [
      "C:\\Users\\Bank of America\\anaconda3\\lib\\site-packages\\seaborn\\distributions.py:2557: FutureWarning: `distplot` is a deprecated function and will be removed in a future version. Please adapt your code to use either `displot` (a figure-level function with similar flexibility) or `kdeplot` (an axes-level function for kernel density plots).\n",
      "  warnings.warn(msg, FutureWarning)\n"
     ]
    },
    {
     "data": {
      "text/plain": [
       "<AxesSubplot:ylabel='Density'>"
      ]
     },
     "execution_count": 258,
     "metadata": {},
     "output_type": "execute_result"
    },
    {
     "data": {
      "image/png": "[encoded data removed]",
      "text/plain": [
       "<Figure size 432x288 with 1 Axes>"
      ]
     },
     "metadata": {
      "needs_background": "light"
     },
     "output_type": "display_data"
    }
   ],
   "source": [
    "# visual\n",
    "\n",
    "sns.distplot(np.random.exponential(size=1000), hist=False)"
   ]
  },
  {
   "cell_type": "markdown",
   "id": "eee8e23b",
   "metadata": {},
   "source": [
    "# Chi Square Distribution"
   ]
  },
  {
   "cell_type": "code",
   "execution_count": 259,
   "id": "e9093b52",
   "metadata": {},
   "outputs": [],
   "source": [
    "# Chi Square distribution is used as a basis to verify the hypothesis"
   ]
  },
  {
   "cell_type": "code",
   "execution_count": 260,
   "id": "8079db7a",
   "metadata": {},
   "outputs": [],
   "source": [
    "# 2 parameters: 1. df= degree of freedom, size"
   ]
  },
  {
   "cell_type": "code",
   "execution_count": 261,
   "id": "a5da517a",
   "metadata": {},
   "outputs": [],
   "source": [
    "x=np.random.chisquare(df=2, size=1000)"
   ]
  },
  {
   "cell_type": "code",
   "execution_count": 262,
   "id": "f55721ef",
   "metadata": {},
   "outputs": [
    {
     "name": "stderr",
     "output_type": "stream",
     "text": [
      "C:\\Users\\Bank of America\\anaconda3\\lib\\site-packages\\seaborn\\distributions.py:2557: FutureWarning: `distplot` is a deprecated function and will be removed in a future version. Please adapt your code to use either `displot` (a figure-level function with similar flexibility) or `histplot` (an axes-level function for histograms).\n",
      "  warnings.warn(msg, FutureWarning)\n"
     ]
    },
    {
     "data": {
      "text/plain": [
       "<AxesSubplot:ylabel='Density'>"
      ]
     },
     "execution_count": 262,
     "metadata": {},
     "output_type": "execute_result"
    },
    {
     "data": {
      "image/png": "[encoded data removed]",
      "text/plain": [
       "<Figure size 432x288 with 1 Axes>"
      ]
     },
     "metadata": {
      "needs_background": "light"
     },
     "output_type": "display_data"
    }
   ],
   "source": [
    "sns.distplot(x)"
   ]
  },
  {
   "cell_type": "markdown",
   "id": "7ca982a5",
   "metadata": {},
   "source": [
    "# Pareto Distribution"
   ]
  },
  {
   "cell_type": "code",
   "execution_count": 263,
   "id": "1da9765d",
   "metadata": {},
   "outputs": [],
   "source": [
    "# a distribution following pareto law, 80-20 distribution"
   ]
  },
  {
   "cell_type": "code",
   "execution_count": 264,
   "id": "e22eb1ae",
   "metadata": {},
   "outputs": [],
   "source": [
    "# 2 parameters:  1. a= shape parameter  2. size"
   ]
  },
  {
   "cell_type": "code",
   "execution_count": 266,
   "id": "9612cbc6",
   "metadata": {},
   "outputs": [],
   "source": [
    "x= np.random.pareto(a=2, size=1000)"
   ]
  },
  {
   "cell_type": "code",
   "execution_count": 267,
   "id": "3f51eb2f",
   "metadata": {},
   "outputs": [
    {
     "name": "stderr",
     "output_type": "stream",
     "text": [
      "C:\\Users\\Bank of America\\anaconda3\\lib\\site-packages\\seaborn\\distributions.py:2557: FutureWarning: `distplot` is a deprecated function and will be removed in a future version. Please adapt your code to use either `displot` (a figure-level function with similar flexibility) or `histplot` (an axes-level function for histograms).\n",
      "  warnings.warn(msg, FutureWarning)\n"
     ]
    },
    {
     "data": {
      "text/plain": [
       "<AxesSubplot:ylabel='Density'>"
      ]
     },
     "execution_count": 267,
     "metadata": {},
     "output_type": "execute_result"
    },
    {
     "data": {
      "image/png": "[encoded data removed]",
      "text/plain": [
       "<Figure size 432x288 with 1 Axes>"
      ]
     },
     "metadata": {
      "needs_background": "light"
     },
     "output_type": "display_data"
    }
   ],
   "source": [
    "sns.distplot(x)"
   ]
  },
  {
   "cell_type": "code",
   "execution_count": null,
   "id": "8752d55a",
   "metadata": {},
   "outputs": [],
   "source": []
  }
 ],
 "metadata": {
  "kernelspec": {
   "display_name": "Python 3",
   "language": "python",
   "name": "python3"
  },
  "language_info": {
   "codemirror_mode": {
    "name": "ipython",
    "version": 3
   },
   "file_extension": ".py",
   "mimetype": "text/x-python",
   "name": "python",
   "nbconvert_exporter": "python",
   "pygments_lexer": "ipython3",
   "version": "3.8.8"
  }
 },
 "nbformat": 4,
 "nbformat_minor": 5
}
